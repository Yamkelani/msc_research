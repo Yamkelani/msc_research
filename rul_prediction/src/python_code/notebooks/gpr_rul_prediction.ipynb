{
 "cells": [
  {
   "cell_type": "code",
   "execution_count": 1,
   "metadata": {},
   "outputs": [
    {
     "name": "stderr",
     "output_type": "stream",
     "text": [
      "WARNING: pip is being invoked by an old script wrapper. This will fail in a future version of pip.\n",
      "Please see https://github.com/pypa/pip/issues/5599 for advice on fixing the underlying issue.\n",
      "To avoid this problem you can invoke Python with '-m pip' instead of running pip directly.\n"
     ]
    },
    {
     "name": "stdout",
     "output_type": "stream",
     "text": [
      "Requirement already satisfied: xgboost in /home/yamukelani/.local/lib/python3.8/site-packages (2.0.0)\n",
      "Requirement already satisfied: numpy in /usr/local/lib/python3.8/dist-packages (from xgboost) (1.19.5)\n",
      "Requirement already satisfied: scipy in /usr/local/lib/python3.8/dist-packages (from xgboost) (1.7.1)\n"
     ]
    }
   ],
   "source": [
    "import pandas as pd\n",
    "import numpy as np\n",
    "import matplotlib.pylab as plt\n",
    "import tensorflow as tf\n",
    "\n",
    "import pip\n",
    "pip.main(['install', 'xgboost'])\n",
    "import xgboost as xgb\n",
    "from sklearn.model_selection import train_test_split\n",
    "from sklearn.gaussian_process import GaussianProcessRegressor\n",
    "from sklearn.gaussian_process.kernels import DotProduct, WhiteKernel\n",
    "from sklearn.gaussian_process.kernels import RBF, ConstantKernel\n",
    "import matplotlib.pyplot as plt"
   ]
  },
  {
   "cell_type": "code",
   "execution_count": 2,
   "metadata": {},
   "outputs": [],
   "source": [
    "bat_charge_path = r\"/home/yamukelani/source_code/msc_research/rul_prediction/src/datasets/all_batteries_charging_data.csv\"\n",
    "bat_discharge_path = r\"/home/yamukelani/source_code/msc_research/rul_prediction/src/datasets/all_batteries_discharging_data.csv\"\n",
    "\n",
    "battery_charging = pd.read_csv(bat_charge_path)\n",
    "battery_discharging = pd.read_csv(bat_discharge_path)"
   ]
  },
  {
   "cell_type": "code",
   "execution_count": 3,
   "metadata": {},
   "outputs": [
    {
     "data": {
      "text/html": [
       "<div>\n",
       "<style scoped>\n",
       "    .dataframe tbody tr th:only-of-type {\n",
       "        vertical-align: middle;\n",
       "    }\n",
       "\n",
       "    .dataframe tbody tr th {\n",
       "        vertical-align: top;\n",
       "    }\n",
       "\n",
       "    .dataframe thead th {\n",
       "        text-align: right;\n",
       "    }\n",
       "</style>\n",
       "<table border=\"1\" class=\"dataframe\">\n",
       "  <thead>\n",
       "    <tr style=\"text-align: right;\">\n",
       "      <th></th>\n",
       "      <th>Ambient_temperature</th>\n",
       "      <th>Voltage_measured</th>\n",
       "      <th>Current_measured</th>\n",
       "      <th>Temperature_measured</th>\n",
       "      <th>Current_load</th>\n",
       "      <th>Voltage_load</th>\n",
       "      <th>Capacity</th>\n",
       "    </tr>\n",
       "    <tr>\n",
       "      <th>Discharge_time</th>\n",
       "      <th></th>\n",
       "      <th></th>\n",
       "      <th></th>\n",
       "      <th></th>\n",
       "      <th></th>\n",
       "      <th></th>\n",
       "      <th></th>\n",
       "    </tr>\n",
       "  </thead>\n",
       "  <tbody>\n",
       "    <tr>\n",
       "      <th>0.000</th>\n",
       "      <td>24</td>\n",
       "      <td>4.191492</td>\n",
       "      <td>-0.004902</td>\n",
       "      <td>24.330034</td>\n",
       "      <td>-0.0006</td>\n",
       "      <td>0.000</td>\n",
       "      <td>1.856487</td>\n",
       "    </tr>\n",
       "    <tr>\n",
       "      <th>16.781</th>\n",
       "      <td>24</td>\n",
       "      <td>4.190749</td>\n",
       "      <td>-0.001478</td>\n",
       "      <td>24.325993</td>\n",
       "      <td>-0.0006</td>\n",
       "      <td>4.206</td>\n",
       "      <td>1.856487</td>\n",
       "    </tr>\n",
       "    <tr>\n",
       "      <th>35.703</th>\n",
       "      <td>24</td>\n",
       "      <td>3.974871</td>\n",
       "      <td>-2.012528</td>\n",
       "      <td>24.389085</td>\n",
       "      <td>-1.9982</td>\n",
       "      <td>3.062</td>\n",
       "      <td>1.856487</td>\n",
       "    </tr>\n",
       "    <tr>\n",
       "      <th>53.781</th>\n",
       "      <td>24</td>\n",
       "      <td>3.951717</td>\n",
       "      <td>-2.013979</td>\n",
       "      <td>24.544752</td>\n",
       "      <td>-1.9982</td>\n",
       "      <td>3.030</td>\n",
       "      <td>1.856487</td>\n",
       "    </tr>\n",
       "    <tr>\n",
       "      <th>71.922</th>\n",
       "      <td>24</td>\n",
       "      <td>3.934352</td>\n",
       "      <td>-2.011144</td>\n",
       "      <td>24.731385</td>\n",
       "      <td>-1.9982</td>\n",
       "      <td>3.011</td>\n",
       "      <td>1.856487</td>\n",
       "    </tr>\n",
       "    <tr>\n",
       "      <th>...</th>\n",
       "      <td>...</td>\n",
       "      <td>...</td>\n",
       "      <td>...</td>\n",
       "      <td>...</td>\n",
       "      <td>...</td>\n",
       "      <td>...</td>\n",
       "      <td>...</td>\n",
       "    </tr>\n",
       "    <tr>\n",
       "      <th>2686.359</th>\n",
       "      <td>24</td>\n",
       "      <td>3.443760</td>\n",
       "      <td>-0.002426</td>\n",
       "      <td>35.383979</td>\n",
       "      <td>0.0006</td>\n",
       "      <td>0.000</td>\n",
       "      <td>1.341051</td>\n",
       "    </tr>\n",
       "    <tr>\n",
       "      <th>2700.546</th>\n",
       "      <td>24</td>\n",
       "      <td>3.453271</td>\n",
       "      <td>-0.000981</td>\n",
       "      <td>35.179732</td>\n",
       "      <td>0.0006</td>\n",
       "      <td>0.000</td>\n",
       "      <td>1.341051</td>\n",
       "    </tr>\n",
       "    <tr>\n",
       "      <th>2714.640</th>\n",
       "      <td>24</td>\n",
       "      <td>3.461963</td>\n",
       "      <td>0.000209</td>\n",
       "      <td>34.977000</td>\n",
       "      <td>0.0006</td>\n",
       "      <td>0.000</td>\n",
       "      <td>1.341051</td>\n",
       "    </tr>\n",
       "    <tr>\n",
       "      <th>2728.750</th>\n",
       "      <td>24</td>\n",
       "      <td>3.469907</td>\n",
       "      <td>0.001516</td>\n",
       "      <td>34.785943</td>\n",
       "      <td>0.0006</td>\n",
       "      <td>0.000</td>\n",
       "      <td>1.341051</td>\n",
       "    </tr>\n",
       "    <tr>\n",
       "      <th>2742.843</th>\n",
       "      <td>24</td>\n",
       "      <td>3.477277</td>\n",
       "      <td>-0.001940</td>\n",
       "      <td>34.581660</td>\n",
       "      <td>0.0006</td>\n",
       "      <td>0.000</td>\n",
       "      <td>1.341051</td>\n",
       "    </tr>\n",
       "  </tbody>\n",
       "</table>\n",
       "<p>185721 rows × 7 columns</p>\n",
       "</div>"
      ],
      "text/plain": [
       "                Ambient_temperature  Voltage_measured  Current_measured  \\\n",
       "Discharge_time                                                            \n",
       "0.000                            24          4.191492         -0.004902   \n",
       "16.781                           24          4.190749         -0.001478   \n",
       "35.703                           24          3.974871         -2.012528   \n",
       "53.781                           24          3.951717         -2.013979   \n",
       "71.922                           24          3.934352         -2.011144   \n",
       "...                             ...               ...               ...   \n",
       "2686.359                         24          3.443760         -0.002426   \n",
       "2700.546                         24          3.453271         -0.000981   \n",
       "2714.640                         24          3.461963          0.000209   \n",
       "2728.750                         24          3.469907          0.001516   \n",
       "2742.843                         24          3.477277         -0.001940   \n",
       "\n",
       "                Temperature_measured  Current_load  Voltage_load  Capacity  \n",
       "Discharge_time                                                              \n",
       "0.000                      24.330034       -0.0006         0.000  1.856487  \n",
       "16.781                     24.325993       -0.0006         4.206  1.856487  \n",
       "35.703                     24.389085       -1.9982         3.062  1.856487  \n",
       "53.781                     24.544752       -1.9982         3.030  1.856487  \n",
       "71.922                     24.731385       -1.9982         3.011  1.856487  \n",
       "...                              ...           ...           ...       ...  \n",
       "2686.359                   35.383979        0.0006         0.000  1.341051  \n",
       "2700.546                   35.179732        0.0006         0.000  1.341051  \n",
       "2714.640                   34.977000        0.0006         0.000  1.341051  \n",
       "2728.750                   34.785943        0.0006         0.000  1.341051  \n",
       "2742.843                   34.581660        0.0006         0.000  1.341051  \n",
       "\n",
       "[185721 rows x 7 columns]"
      ]
     },
     "execution_count": 3,
     "metadata": {},
     "output_type": "execute_result"
    }
   ],
   "source": [
    "bat_discharge_sel = battery_discharging[['Ambient_temperature', 'Voltage_measured',\n",
    "       'Current_measured', 'Temperature_measured', 'Current_load',\n",
    "       'Voltage_load', 'Discharge_time', 'Capacity']].set_index('Discharge_time')\n",
    "bat_discharge_sel\n"
   ]
  },
  {
   "cell_type": "markdown",
   "metadata": {},
   "source": [
    "# Split the battery discharging data into training and test datasets. "
   ]
  },
  {
   "cell_type": "code",
   "execution_count": 4,
   "metadata": {},
   "outputs": [],
   "source": [
    "bat_discharge_train, bat_discharge_test = train_test_split(bat_discharge_sel, test_size=0.3)\n",
    "X_train = bat_discharge_train[['Ambient_temperature', 'Voltage_measured', 'Current_measured', 'Temperature_measured', 'Current_load', 'Voltage_load']]\n",
    "y_train = bat_discharge_train[['Capacity']]\n",
    "X_test = bat_discharge_test[['Ambient_temperature', 'Voltage_measured', 'Current_measured', 'Temperature_measured', 'Current_load', 'Voltage_load']]\n",
    "y_test = bat_discharge_test[['Capacity']]"
   ]
  },
  {
   "cell_type": "code",
   "execution_count": 5,
   "metadata": {},
   "outputs": [
    {
     "data": {
      "text/html": [
       "<div>\n",
       "<style scoped>\n",
       "    .dataframe tbody tr th:only-of-type {\n",
       "        vertical-align: middle;\n",
       "    }\n",
       "\n",
       "    .dataframe tbody tr th {\n",
       "        vertical-align: top;\n",
       "    }\n",
       "\n",
       "    .dataframe thead th {\n",
       "        text-align: right;\n",
       "    }\n",
       "</style>\n",
       "<table border=\"1\" class=\"dataframe\">\n",
       "  <thead>\n",
       "    <tr style=\"text-align: right;\">\n",
       "      <th></th>\n",
       "      <th>Ambient_temperature</th>\n",
       "      <th>Voltage_measured</th>\n",
       "      <th>Current_measured</th>\n",
       "      <th>Temperature_measured</th>\n",
       "      <th>Current_load</th>\n",
       "      <th>Voltage_load</th>\n",
       "      <th>Capacity</th>\n",
       "    </tr>\n",
       "    <tr>\n",
       "      <th>Discharge_time</th>\n",
       "      <th></th>\n",
       "      <th></th>\n",
       "      <th></th>\n",
       "      <th></th>\n",
       "      <th></th>\n",
       "      <th></th>\n",
       "      <th></th>\n",
       "    </tr>\n",
       "  </thead>\n",
       "  <tbody>\n",
       "    <tr>\n",
       "      <th>1012.015</th>\n",
       "      <td>24</td>\n",
       "      <td>3.649749</td>\n",
       "      <td>-2.013449</td>\n",
       "      <td>29.392095</td>\n",
       "      <td>1.9982</td>\n",
       "      <td>2.691</td>\n",
       "      <td>1.741850</td>\n",
       "    </tr>\n",
       "    <tr>\n",
       "      <th>668.875</th>\n",
       "      <td>24</td>\n",
       "      <td>3.649056</td>\n",
       "      <td>-2.005839</td>\n",
       "      <td>28.030751</td>\n",
       "      <td>1.9986</td>\n",
       "      <td>2.741</td>\n",
       "      <td>1.447866</td>\n",
       "    </tr>\n",
       "    <tr>\n",
       "      <th>984.485</th>\n",
       "      <td>24</td>\n",
       "      <td>3.579191</td>\n",
       "      <td>-2.011532</td>\n",
       "      <td>30.971798</td>\n",
       "      <td>1.9982</td>\n",
       "      <td>2.612</td>\n",
       "      <td>1.485904</td>\n",
       "    </tr>\n",
       "    <tr>\n",
       "      <th>50.484</th>\n",
       "      <td>24</td>\n",
       "      <td>3.926122</td>\n",
       "      <td>-2.008494</td>\n",
       "      <td>23.161182</td>\n",
       "      <td>1.9986</td>\n",
       "      <td>2.979</td>\n",
       "      <td>1.406448</td>\n",
       "    </tr>\n",
       "    <tr>\n",
       "      <th>806.500</th>\n",
       "      <td>24</td>\n",
       "      <td>3.561970</td>\n",
       "      <td>-2.011794</td>\n",
       "      <td>30.891831</td>\n",
       "      <td>1.9982</td>\n",
       "      <td>2.589</td>\n",
       "      <td>1.309015</td>\n",
       "    </tr>\n",
       "    <tr>\n",
       "      <th>2764.531</th>\n",
       "      <td>24</td>\n",
       "      <td>2.994951</td>\n",
       "      <td>0.000951</td>\n",
       "      <td>41.067551</td>\n",
       "      <td>0.0006</td>\n",
       "      <td>0.001</td>\n",
       "      <td>1.482078</td>\n",
       "    </tr>\n",
       "    <tr>\n",
       "      <th>1546.781</th>\n",
       "      <td>24</td>\n",
       "      <td>3.545289</td>\n",
       "      <td>-2.010194</td>\n",
       "      <td>33.160621</td>\n",
       "      <td>1.9992</td>\n",
       "      <td>2.640</td>\n",
       "      <td>1.823719</td>\n",
       "    </tr>\n",
       "    <tr>\n",
       "      <th>1340.797</th>\n",
       "      <td>24</td>\n",
       "      <td>3.469346</td>\n",
       "      <td>-2.009414</td>\n",
       "      <td>30.133956</td>\n",
       "      <td>1.9988</td>\n",
       "      <td>2.559</td>\n",
       "      <td>1.426843</td>\n",
       "    </tr>\n",
       "    <tr>\n",
       "      <th>1035.469</th>\n",
       "      <td>24</td>\n",
       "      <td>3.562610</td>\n",
       "      <td>-2.010595</td>\n",
       "      <td>29.173368</td>\n",
       "      <td>1.9986</td>\n",
       "      <td>2.652</td>\n",
       "      <td>1.480738</td>\n",
       "    </tr>\n",
       "    <tr>\n",
       "      <th>1415.187</th>\n",
       "      <td>24</td>\n",
       "      <td>3.404013</td>\n",
       "      <td>-2.012170</td>\n",
       "      <td>33.864589</td>\n",
       "      <td>1.9980</td>\n",
       "      <td>2.427</td>\n",
       "      <td>1.293464</td>\n",
       "    </tr>\n",
       "  </tbody>\n",
       "</table>\n",
       "</div>"
      ],
      "text/plain": [
       "                Ambient_temperature  Voltage_measured  Current_measured  \\\n",
       "Discharge_time                                                            \n",
       "1012.015                         24          3.649749         -2.013449   \n",
       "668.875                          24          3.649056         -2.005839   \n",
       "984.485                          24          3.579191         -2.011532   \n",
       "50.484                           24          3.926122         -2.008494   \n",
       "806.500                          24          3.561970         -2.011794   \n",
       "2764.531                         24          2.994951          0.000951   \n",
       "1546.781                         24          3.545289         -2.010194   \n",
       "1340.797                         24          3.469346         -2.009414   \n",
       "1035.469                         24          3.562610         -2.010595   \n",
       "1415.187                         24          3.404013         -2.012170   \n",
       "\n",
       "                Temperature_measured  Current_load  Voltage_load  Capacity  \n",
       "Discharge_time                                                              \n",
       "1012.015                   29.392095        1.9982         2.691  1.741850  \n",
       "668.875                    28.030751        1.9986         2.741  1.447866  \n",
       "984.485                    30.971798        1.9982         2.612  1.485904  \n",
       "50.484                     23.161182        1.9986         2.979  1.406448  \n",
       "806.500                    30.891831        1.9982         2.589  1.309015  \n",
       "2764.531                   41.067551        0.0006         0.001  1.482078  \n",
       "1546.781                   33.160621        1.9992         2.640  1.823719  \n",
       "1340.797                   30.133956        1.9988         2.559  1.426843  \n",
       "1035.469                   29.173368        1.9986         2.652  1.480738  \n",
       "1415.187                   33.864589        1.9980         2.427  1.293464  "
      ]
     },
     "execution_count": 5,
     "metadata": {},
     "output_type": "execute_result"
    }
   ],
   "source": [
    "bat_discharge_train.head(10)"
   ]
  },
  {
   "cell_type": "code",
   "execution_count": 6,
   "metadata": {},
   "outputs": [
    {
     "data": {
      "text/html": [
       "<div>\n",
       "<style scoped>\n",
       "    .dataframe tbody tr th:only-of-type {\n",
       "        vertical-align: middle;\n",
       "    }\n",
       "\n",
       "    .dataframe tbody tr th {\n",
       "        vertical-align: top;\n",
       "    }\n",
       "\n",
       "    .dataframe thead th {\n",
       "        text-align: right;\n",
       "    }\n",
       "</style>\n",
       "<table border=\"1\" class=\"dataframe\">\n",
       "  <thead>\n",
       "    <tr style=\"text-align: right;\">\n",
       "      <th></th>\n",
       "      <th>Ambient_temperature</th>\n",
       "      <th>Voltage_measured</th>\n",
       "      <th>Current_measured</th>\n",
       "      <th>Temperature_measured</th>\n",
       "      <th>Current_load</th>\n",
       "      <th>Voltage_load</th>\n",
       "      <th>Capacity</th>\n",
       "    </tr>\n",
       "    <tr>\n",
       "      <th>Discharge_time</th>\n",
       "      <th></th>\n",
       "      <th></th>\n",
       "      <th></th>\n",
       "      <th></th>\n",
       "      <th></th>\n",
       "      <th></th>\n",
       "      <th></th>\n",
       "    </tr>\n",
       "  </thead>\n",
       "  <tbody>\n",
       "    <tr>\n",
       "      <th>225.563</th>\n",
       "      <td>24</td>\n",
       "      <td>3.721537</td>\n",
       "      <td>-2.009412</td>\n",
       "      <td>26.772211</td>\n",
       "      <td>1.9988</td>\n",
       "      <td>2.809</td>\n",
       "      <td>1.289805</td>\n",
       "    </tr>\n",
       "    <tr>\n",
       "      <th>3328.828</th>\n",
       "      <td>24</td>\n",
       "      <td>3.339674</td>\n",
       "      <td>-2.012212</td>\n",
       "      <td>36.929766</td>\n",
       "      <td>-1.9990</td>\n",
       "      <td>2.446</td>\n",
       "      <td>2.025140</td>\n",
       "    </tr>\n",
       "    <tr>\n",
       "      <th>291.218</th>\n",
       "      <td>24</td>\n",
       "      <td>3.807107</td>\n",
       "      <td>-1.985759</td>\n",
       "      <td>26.892396</td>\n",
       "      <td>2.0000</td>\n",
       "      <td>2.872</td>\n",
       "      <td>1.492414</td>\n",
       "    </tr>\n",
       "    <tr>\n",
       "      <th>2080.656</th>\n",
       "      <td>24</td>\n",
       "      <td>3.509104</td>\n",
       "      <td>-1.990522</td>\n",
       "      <td>35.020260</td>\n",
       "      <td>2.0000</td>\n",
       "      <td>2.568</td>\n",
       "      <td>1.815076</td>\n",
       "    </tr>\n",
       "    <tr>\n",
       "      <th>1228.000</th>\n",
       "      <td>24</td>\n",
       "      <td>3.500210</td>\n",
       "      <td>-2.012984</td>\n",
       "      <td>31.015814</td>\n",
       "      <td>1.9990</td>\n",
       "      <td>2.593</td>\n",
       "      <td>1.551171</td>\n",
       "    </tr>\n",
       "    <tr>\n",
       "      <th>1147.203</th>\n",
       "      <td>24</td>\n",
       "      <td>3.497554</td>\n",
       "      <td>-2.009465</td>\n",
       "      <td>30.261666</td>\n",
       "      <td>1.9988</td>\n",
       "      <td>2.590</td>\n",
       "      <td>1.393567</td>\n",
       "    </tr>\n",
       "    <tr>\n",
       "      <th>3450.891</th>\n",
       "      <td>24</td>\n",
       "      <td>2.252022</td>\n",
       "      <td>-1.990536</td>\n",
       "      <td>39.465246</td>\n",
       "      <td>-2.0000</td>\n",
       "      <td>1.418</td>\n",
       "      <td>1.881472</td>\n",
       "    </tr>\n",
       "    <tr>\n",
       "      <th>87.656</th>\n",
       "      <td>24</td>\n",
       "      <td>3.876819</td>\n",
       "      <td>-2.005500</td>\n",
       "      <td>24.024656</td>\n",
       "      <td>1.9988</td>\n",
       "      <td>2.941</td>\n",
       "      <td>1.373346</td>\n",
       "    </tr>\n",
       "    <tr>\n",
       "      <th>1381.234</th>\n",
       "      <td>24</td>\n",
       "      <td>3.575258</td>\n",
       "      <td>-2.008546</td>\n",
       "      <td>29.946029</td>\n",
       "      <td>1.9986</td>\n",
       "      <td>2.671</td>\n",
       "      <td>1.746220</td>\n",
       "    </tr>\n",
       "    <tr>\n",
       "      <th>1171.593</th>\n",
       "      <td>24</td>\n",
       "      <td>3.553738</td>\n",
       "      <td>-2.009949</td>\n",
       "      <td>30.918765</td>\n",
       "      <td>1.9990</td>\n",
       "      <td>2.646</td>\n",
       "      <td>1.640135</td>\n",
       "    </tr>\n",
       "  </tbody>\n",
       "</table>\n",
       "</div>"
      ],
      "text/plain": [
       "                Ambient_temperature  Voltage_measured  Current_measured  \\\n",
       "Discharge_time                                                            \n",
       "225.563                          24          3.721537         -2.009412   \n",
       "3328.828                         24          3.339674         -2.012212   \n",
       "291.218                          24          3.807107         -1.985759   \n",
       "2080.656                         24          3.509104         -1.990522   \n",
       "1228.000                         24          3.500210         -2.012984   \n",
       "1147.203                         24          3.497554         -2.009465   \n",
       "3450.891                         24          2.252022         -1.990536   \n",
       "87.656                           24          3.876819         -2.005500   \n",
       "1381.234                         24          3.575258         -2.008546   \n",
       "1171.593                         24          3.553738         -2.009949   \n",
       "\n",
       "                Temperature_measured  Current_load  Voltage_load  Capacity  \n",
       "Discharge_time                                                              \n",
       "225.563                    26.772211        1.9988         2.809  1.289805  \n",
       "3328.828                   36.929766       -1.9990         2.446  2.025140  \n",
       "291.218                    26.892396        2.0000         2.872  1.492414  \n",
       "2080.656                   35.020260        2.0000         2.568  1.815076  \n",
       "1228.000                   31.015814        1.9990         2.593  1.551171  \n",
       "1147.203                   30.261666        1.9988         2.590  1.393567  \n",
       "3450.891                   39.465246       -2.0000         1.418  1.881472  \n",
       "87.656                     24.024656        1.9988         2.941  1.373346  \n",
       "1381.234                   29.946029        1.9986         2.671  1.746220  \n",
       "1171.593                   30.918765        1.9990         2.646  1.640135  "
      ]
     },
     "execution_count": 6,
     "metadata": {},
     "output_type": "execute_result"
    }
   ],
   "source": [
    "bat_discharge_test.head(10)"
   ]
  },
  {
   "cell_type": "code",
   "execution_count": 7,
   "metadata": {},
   "outputs": [
    {
     "data": {
      "text/plain": [
       "0.300003769094502"
      ]
     },
     "execution_count": 7,
     "metadata": {},
     "output_type": "execute_result"
    }
   ],
   "source": [
    "len(bat_discharge_test)/len(bat_discharge_sel)"
   ]
  },
  {
   "cell_type": "code",
   "execution_count": 8,
   "metadata": {},
   "outputs": [
    {
     "data": {
      "text/plain": [
       "0.699996230905498"
      ]
     },
     "execution_count": 8,
     "metadata": {},
     "output_type": "execute_result"
    }
   ],
   "source": [
    "len(bat_discharge_train)/len(bat_discharge_sel)"
   ]
  },
  {
   "cell_type": "code",
   "execution_count": 9,
   "metadata": {},
   "outputs": [
    {
     "data": {
      "text/plain": [
       "185721"
      ]
     },
     "execution_count": 9,
     "metadata": {},
     "output_type": "execute_result"
    }
   ],
   "source": [
    "len(bat_discharge_sel)"
   ]
  },
  {
   "cell_type": "code",
   "execution_count": 10,
   "metadata": {},
   "outputs": [],
   "source": [
    "from sklearn.gaussian_process import GaussianProcessRegressor\n",
    "from sklearn.gaussian_process.kernels import RBF\n",
    "from sklearn.metrics import mean_squared_error, r2_score"
   ]
  },
  {
   "cell_type": "markdown",
   "metadata": {},
   "source": [
    "# Choose Kernel function"
   ]
  },
  {
   "cell_type": "code",
   "execution_count": 11,
   "metadata": {},
   "outputs": [],
   "source": [
    "# Choose kernel function\n",
    "kernel = ConstantKernel(constant_value=1.0) * RBF(length_scale=1.0) # Product of constant and RBF kernels"
   ]
  },
  {
   "cell_type": "markdown",
   "metadata": {},
   "source": [
    "# Create and fit model"
   ]
  },
  {
   "cell_type": "code",
   "execution_count": 15,
   "metadata": {},
   "outputs": [],
   "source": [
    "from sklearn.preprocessing import MinMaxScaler\n",
    "scaler = MinMaxScaler()\n",
    "X_train_s=scaler.fit_transform(X_train)\n",
    "X_test_s=scaler.fit_transform(X_test)\n",
    "y_train_s = scaler.fit_transform(y_train)\n",
    "y_test_s = scaler.fit_transform(y_test)"
   ]
  },
  {
   "cell_type": "code",
   "execution_count": 16,
   "metadata": {},
   "outputs": [
    {
     "data": {
      "text/plain": [
       "array([[0.00000000e+00, 7.92067894e-01, 8.22614241e-03, 2.21322535e-01,\n",
       "        9.99700000e-01, 6.62812647e-01],\n",
       "       [0.00000000e+00, 6.33567697e-01, 6.85279802e-03, 7.31708945e-01,\n",
       "        2.50000000e-04, 5.77159037e-01],\n",
       "       [0.00000000e+00, 8.27585820e-01, 1.98292580e-02, 2.27361429e-01,\n",
       "        1.00000000e+00, 6.77678150e-01],\n",
       "       ...,\n",
       "       [0.00000000e+00, 6.94600573e-01, 7.24619365e-03, 4.15106948e-01,\n",
       "        9.99750000e-01, 6.08069844e-01],\n",
       "       [0.00000000e+00, 5.92157457e-01, 7.47509023e-03, 7.49915321e-01,\n",
       "        9.99750000e-01, 5.50023596e-01],\n",
       "       [0.00000000e+00, 9.02710541e-01, 6.26875053e-03, 1.02583690e-01,\n",
       "        4.50000000e-04, 7.22038697e-01]])"
      ]
     },
     "execution_count": 16,
     "metadata": {},
     "output_type": "execute_result"
    }
   ],
   "source": [
    "X_test_s"
   ]
  },
  {
   "cell_type": "code",
   "execution_count": 18,
   "metadata": {},
   "outputs": [
    {
     "data": {
      "text/plain": [
       "array([[0.66706571],\n",
       "       [0.33356931],\n",
       "       [0.37671924],\n",
       "       ...,\n",
       "       [0.16969761],\n",
       "       [0.26093544],\n",
       "       [0.57843097]])"
      ]
     },
     "execution_count": 18,
     "metadata": {},
     "output_type": "execute_result"
    }
   ],
   "source": [
    "y_train_s"
   ]
  },
  {
   "cell_type": "code",
   "execution_count": null,
   "metadata": {},
   "outputs": [],
   "source": [
    "# Create and fit model\n",
    "# Create GaussianProcessRegressor object with kernel and noise variance\n",
    "gpr_model = GaussianProcessRegressor(kernel=kernel) \n",
    "gpr_model.fit(X_train_s, y_train_s) # Fit model to training data"
   ]
  },
  {
   "cell_type": "code",
   "execution_count": 33,
   "metadata": {},
   "outputs": [
    {
     "data": {
      "text/plain": [
       "404"
      ]
     },
     "execution_count": 33,
     "metadata": {},
     "output_type": "execute_result"
    }
   ],
   "source": [
    "len(X_train)"
   ]
  },
  {
   "cell_type": "code",
   "execution_count": 35,
   "metadata": {},
   "outputs": [
    {
     "data": {
      "text/plain": [
       "numpy.ndarray"
      ]
     },
     "execution_count": 35,
     "metadata": {},
     "output_type": "execute_result"
    }
   ],
   "source": [
    "type(X)"
   ]
  },
  {
   "cell_type": "code",
   "execution_count": null,
   "metadata": {},
   "outputs": [],
   "source": []
  }
 ],
 "metadata": {
  "kernelspec": {
   "display_name": "Python 3",
   "language": "python",
   "name": "python3"
  },
  "language_info": {
   "codemirror_mode": {
    "name": "ipython",
    "version": 3
   },
   "file_extension": ".py",
   "mimetype": "text/x-python",
   "name": "python",
   "nbconvert_exporter": "python",
   "pygments_lexer": "ipython3",
   "version": "3.8.10"
  }
 },
 "nbformat": 4,
 "nbformat_minor": 4
}
