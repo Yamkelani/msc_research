{
 "cells": [
  {
   "cell_type": "code",
   "execution_count": 1,
   "metadata": {},
   "outputs": [
    {
     "name": "stderr",
     "output_type": "stream",
     "text": [
      "WARNING: pip is being invoked by an old script wrapper. This will fail in a future version of pip.\n",
      "Please see https://github.com/pypa/pip/issues/5599 for advice on fixing the underlying issue.\n",
      "To avoid this problem you can invoke Python with '-m pip' instead of running pip directly.\n"
     ]
    },
    {
     "name": "stdout",
     "output_type": "stream",
     "text": [
      "Requirement already satisfied: xgboost in /home/yamukelani/.local/lib/python3.8/site-packages (2.0.0)\n",
      "Requirement already satisfied: scipy in /usr/local/lib/python3.8/dist-packages (from xgboost) (1.7.1)\n",
      "Requirement already satisfied: numpy in /usr/local/lib/python3.8/dist-packages (from xgboost) (1.19.5)\n"
     ]
    }
   ],
   "source": [
    "import pandas as pd\n",
    "import numpy as np\n",
    "import matplotlib.pylab as plt\n",
    "import tensorflow as tf\n",
    "\n",
    "import pip\n",
    "pip.main(['install', 'xgboost'])\n",
    "import xgboost as xgb\n",
    "from sklearn.model_selection import train_test_split\n",
    "from sklearn.gaussian_process import GaussianProcessRegressor\n",
    "from sklearn.gaussian_process.kernels import DotProduct, WhiteKernel\n",
    "from sklearn.gaussian_process.kernels import RBF, ConstantKernel\n",
    "import matplotlib.pyplot as plt"
   ]
  },
  {
   "cell_type": "code",
   "execution_count": 2,
   "metadata": {},
   "outputs": [],
   "source": [
    "bat_charge_path = r\"/home/yamukelani/source_code/msc_research/rul_prediction/src/datasets/all_batteries_charging_data.csv\"\n",
    "bat_discharge_path = r\"/home/yamukelani/source_code/msc_research/rul_prediction/src/datasets/all_batteries_discharging_data.csv\"\n",
    "\n",
    "battery_charging = pd.read_csv(bat_charge_path)\n",
    "battery_discharging = pd.read_csv(bat_discharge_path)"
   ]
  },
  {
   "cell_type": "code",
   "execution_count": 3,
   "metadata": {},
   "outputs": [
    {
     "data": {
      "text/html": [
       "<div>\n",
       "<style scoped>\n",
       "    .dataframe tbody tr th:only-of-type {\n",
       "        vertical-align: middle;\n",
       "    }\n",
       "\n",
       "    .dataframe tbody tr th {\n",
       "        vertical-align: top;\n",
       "    }\n",
       "\n",
       "    .dataframe thead th {\n",
       "        text-align: right;\n",
       "    }\n",
       "</style>\n",
       "<table border=\"1\" class=\"dataframe\">\n",
       "  <thead>\n",
       "    <tr style=\"text-align: right;\">\n",
       "      <th></th>\n",
       "      <th>Ambient_temperature</th>\n",
       "      <th>Voltage_measured</th>\n",
       "      <th>Current_measured</th>\n",
       "      <th>Temperature_measured</th>\n",
       "      <th>Current_load</th>\n",
       "      <th>Voltage_load</th>\n",
       "      <th>Capacity</th>\n",
       "    </tr>\n",
       "    <tr>\n",
       "      <th>Discharge_time</th>\n",
       "      <th></th>\n",
       "      <th></th>\n",
       "      <th></th>\n",
       "      <th></th>\n",
       "      <th></th>\n",
       "      <th></th>\n",
       "      <th></th>\n",
       "    </tr>\n",
       "  </thead>\n",
       "  <tbody>\n",
       "    <tr>\n",
       "      <th>0.000</th>\n",
       "      <td>24</td>\n",
       "      <td>4.191492</td>\n",
       "      <td>-0.004902</td>\n",
       "      <td>24.330034</td>\n",
       "      <td>-0.0006</td>\n",
       "      <td>0.000</td>\n",
       "      <td>1.856487</td>\n",
       "    </tr>\n",
       "    <tr>\n",
       "      <th>16.781</th>\n",
       "      <td>24</td>\n",
       "      <td>4.190749</td>\n",
       "      <td>-0.001478</td>\n",
       "      <td>24.325993</td>\n",
       "      <td>-0.0006</td>\n",
       "      <td>4.206</td>\n",
       "      <td>1.856487</td>\n",
       "    </tr>\n",
       "    <tr>\n",
       "      <th>35.703</th>\n",
       "      <td>24</td>\n",
       "      <td>3.974871</td>\n",
       "      <td>-2.012528</td>\n",
       "      <td>24.389085</td>\n",
       "      <td>-1.9982</td>\n",
       "      <td>3.062</td>\n",
       "      <td>1.856487</td>\n",
       "    </tr>\n",
       "    <tr>\n",
       "      <th>53.781</th>\n",
       "      <td>24</td>\n",
       "      <td>3.951717</td>\n",
       "      <td>-2.013979</td>\n",
       "      <td>24.544752</td>\n",
       "      <td>-1.9982</td>\n",
       "      <td>3.030</td>\n",
       "      <td>1.856487</td>\n",
       "    </tr>\n",
       "    <tr>\n",
       "      <th>71.922</th>\n",
       "      <td>24</td>\n",
       "      <td>3.934352</td>\n",
       "      <td>-2.011144</td>\n",
       "      <td>24.731385</td>\n",
       "      <td>-1.9982</td>\n",
       "      <td>3.011</td>\n",
       "      <td>1.856487</td>\n",
       "    </tr>\n",
       "    <tr>\n",
       "      <th>...</th>\n",
       "      <td>...</td>\n",
       "      <td>...</td>\n",
       "      <td>...</td>\n",
       "      <td>...</td>\n",
       "      <td>...</td>\n",
       "      <td>...</td>\n",
       "      <td>...</td>\n",
       "    </tr>\n",
       "    <tr>\n",
       "      <th>2686.359</th>\n",
       "      <td>24</td>\n",
       "      <td>3.443760</td>\n",
       "      <td>-0.002426</td>\n",
       "      <td>35.383979</td>\n",
       "      <td>0.0006</td>\n",
       "      <td>0.000</td>\n",
       "      <td>1.341051</td>\n",
       "    </tr>\n",
       "    <tr>\n",
       "      <th>2700.546</th>\n",
       "      <td>24</td>\n",
       "      <td>3.453271</td>\n",
       "      <td>-0.000981</td>\n",
       "      <td>35.179732</td>\n",
       "      <td>0.0006</td>\n",
       "      <td>0.000</td>\n",
       "      <td>1.341051</td>\n",
       "    </tr>\n",
       "    <tr>\n",
       "      <th>2714.640</th>\n",
       "      <td>24</td>\n",
       "      <td>3.461963</td>\n",
       "      <td>0.000209</td>\n",
       "      <td>34.977000</td>\n",
       "      <td>0.0006</td>\n",
       "      <td>0.000</td>\n",
       "      <td>1.341051</td>\n",
       "    </tr>\n",
       "    <tr>\n",
       "      <th>2728.750</th>\n",
       "      <td>24</td>\n",
       "      <td>3.469907</td>\n",
       "      <td>0.001516</td>\n",
       "      <td>34.785943</td>\n",
       "      <td>0.0006</td>\n",
       "      <td>0.000</td>\n",
       "      <td>1.341051</td>\n",
       "    </tr>\n",
       "    <tr>\n",
       "      <th>2742.843</th>\n",
       "      <td>24</td>\n",
       "      <td>3.477277</td>\n",
       "      <td>-0.001940</td>\n",
       "      <td>34.581660</td>\n",
       "      <td>0.0006</td>\n",
       "      <td>0.000</td>\n",
       "      <td>1.341051</td>\n",
       "    </tr>\n",
       "  </tbody>\n",
       "</table>\n",
       "<p>185721 rows × 7 columns</p>\n",
       "</div>"
      ],
      "text/plain": [
       "                Ambient_temperature  Voltage_measured  Current_measured  \\\n",
       "Discharge_time                                                            \n",
       "0.000                            24          4.191492         -0.004902   \n",
       "16.781                           24          4.190749         -0.001478   \n",
       "35.703                           24          3.974871         -2.012528   \n",
       "53.781                           24          3.951717         -2.013979   \n",
       "71.922                           24          3.934352         -2.011144   \n",
       "...                             ...               ...               ...   \n",
       "2686.359                         24          3.443760         -0.002426   \n",
       "2700.546                         24          3.453271         -0.000981   \n",
       "2714.640                         24          3.461963          0.000209   \n",
       "2728.750                         24          3.469907          0.001516   \n",
       "2742.843                         24          3.477277         -0.001940   \n",
       "\n",
       "                Temperature_measured  Current_load  Voltage_load  Capacity  \n",
       "Discharge_time                                                              \n",
       "0.000                      24.330034       -0.0006         0.000  1.856487  \n",
       "16.781                     24.325993       -0.0006         4.206  1.856487  \n",
       "35.703                     24.389085       -1.9982         3.062  1.856487  \n",
       "53.781                     24.544752       -1.9982         3.030  1.856487  \n",
       "71.922                     24.731385       -1.9982         3.011  1.856487  \n",
       "...                              ...           ...           ...       ...  \n",
       "2686.359                   35.383979        0.0006         0.000  1.341051  \n",
       "2700.546                   35.179732        0.0006         0.000  1.341051  \n",
       "2714.640                   34.977000        0.0006         0.000  1.341051  \n",
       "2728.750                   34.785943        0.0006         0.000  1.341051  \n",
       "2742.843                   34.581660        0.0006         0.000  1.341051  \n",
       "\n",
       "[185721 rows x 7 columns]"
      ]
     },
     "execution_count": 3,
     "metadata": {},
     "output_type": "execute_result"
    }
   ],
   "source": [
    "bat_discharge_sel = battery_discharging[['Ambient_temperature', 'Voltage_measured',\n",
    "       'Current_measured', 'Temperature_measured', 'Current_load',\n",
    "       'Voltage_load', 'Discharge_time', 'Capacity']].set_index('Discharge_time')\n",
    "bat_discharge_sel\n"
   ]
  },
  {
   "cell_type": "markdown",
   "metadata": {},
   "source": [
    "# Split the battery discharging data into training and test datasets. "
   ]
  },
  {
   "cell_type": "code",
   "execution_count": 11,
   "metadata": {},
   "outputs": [],
   "source": [
    "bat_discharge_train, bat_discharge_test = train_test_split(bat_discharge_sel, test_size=0.3)\n",
    "X_train = bat_discharge_train[['Ambient_temperature', 'Voltage_measured', 'Current_measured', 'Temperature_measured', 'Current_load', 'Voltage_load']]\n",
    "y_train = bat_discharge_train[['Capacity']]\n",
    "X_test = bat_discharge_test[['Ambient_temperature', 'Voltage_measured', 'Current_measured', 'Temperature_measured', 'Current_load', 'Voltage_load']]\n",
    "y_test = bat_discharge_test[['Capacity']]"
   ]
  },
  {
   "cell_type": "code",
   "execution_count": 12,
   "metadata": {},
   "outputs": [
    {
     "data": {
      "text/html": [
       "<div>\n",
       "<style scoped>\n",
       "    .dataframe tbody tr th:only-of-type {\n",
       "        vertical-align: middle;\n",
       "    }\n",
       "\n",
       "    .dataframe tbody tr th {\n",
       "        vertical-align: top;\n",
       "    }\n",
       "\n",
       "    .dataframe thead th {\n",
       "        text-align: right;\n",
       "    }\n",
       "</style>\n",
       "<table border=\"1\" class=\"dataframe\">\n",
       "  <thead>\n",
       "    <tr style=\"text-align: right;\">\n",
       "      <th></th>\n",
       "      <th>Ambient_temperature</th>\n",
       "      <th>Voltage_measured</th>\n",
       "      <th>Current_measured</th>\n",
       "      <th>Temperature_measured</th>\n",
       "      <th>Current_load</th>\n",
       "      <th>Voltage_load</th>\n",
       "      <th>Capacity</th>\n",
       "    </tr>\n",
       "    <tr>\n",
       "      <th>Discharge_time</th>\n",
       "      <th></th>\n",
       "      <th></th>\n",
       "      <th></th>\n",
       "      <th></th>\n",
       "      <th></th>\n",
       "      <th></th>\n",
       "      <th></th>\n",
       "    </tr>\n",
       "  </thead>\n",
       "  <tbody>\n",
       "    <tr>\n",
       "      <th>66.281</th>\n",
       "      <td>24</td>\n",
       "      <td>3.932439</td>\n",
       "      <td>-2.009598</td>\n",
       "      <td>24.130555</td>\n",
       "      <td>1.9988</td>\n",
       "      <td>3.021</td>\n",
       "      <td>1.797102</td>\n",
       "    </tr>\n",
       "    <tr>\n",
       "      <th>1106.000</th>\n",
       "      <td>24</td>\n",
       "      <td>3.550628</td>\n",
       "      <td>-2.009560</td>\n",
       "      <td>30.312309</td>\n",
       "      <td>1.9990</td>\n",
       "      <td>2.645</td>\n",
       "      <td>1.603524</td>\n",
       "    </tr>\n",
       "    <tr>\n",
       "      <th>2974.985</th>\n",
       "      <td>24</td>\n",
       "      <td>3.562115</td>\n",
       "      <td>-0.002523</td>\n",
       "      <td>35.876573</td>\n",
       "      <td>0.0006</td>\n",
       "      <td>0.000</td>\n",
       "      <td>1.449042</td>\n",
       "    </tr>\n",
       "    <tr>\n",
       "      <th>1574.516</th>\n",
       "      <td>24</td>\n",
       "      <td>3.357780</td>\n",
       "      <td>-2.008311</td>\n",
       "      <td>34.542038</td>\n",
       "      <td>1.9990</td>\n",
       "      <td>2.446</td>\n",
       "      <td>1.420701</td>\n",
       "    </tr>\n",
       "    <tr>\n",
       "      <th>498.125</th>\n",
       "      <td>24</td>\n",
       "      <td>3.763987</td>\n",
       "      <td>-2.006470</td>\n",
       "      <td>27.554253</td>\n",
       "      <td>1.9986</td>\n",
       "      <td>2.859</td>\n",
       "      <td>1.648224</td>\n",
       "    </tr>\n",
       "    <tr>\n",
       "      <th>75.828</th>\n",
       "      <td>24</td>\n",
       "      <td>3.836312</td>\n",
       "      <td>-2.011151</td>\n",
       "      <td>25.537846</td>\n",
       "      <td>1.9988</td>\n",
       "      <td>2.918</td>\n",
       "      <td>1.378719</td>\n",
       "    </tr>\n",
       "    <tr>\n",
       "      <th>2454.781</th>\n",
       "      <td>24</td>\n",
       "      <td>3.439623</td>\n",
       "      <td>-2.010389</td>\n",
       "      <td>33.994183</td>\n",
       "      <td>1.9982</td>\n",
       "      <td>2.490</td>\n",
       "      <td>1.751730</td>\n",
       "    </tr>\n",
       "    <tr>\n",
       "      <th>1031.453</th>\n",
       "      <td>24</td>\n",
       "      <td>3.523641</td>\n",
       "      <td>-2.011124</td>\n",
       "      <td>30.426283</td>\n",
       "      <td>1.9988</td>\n",
       "      <td>2.618</td>\n",
       "      <td>1.509392</td>\n",
       "    </tr>\n",
       "    <tr>\n",
       "      <th>2154.640</th>\n",
       "      <td>24</td>\n",
       "      <td>3.490675</td>\n",
       "      <td>-2.009732</td>\n",
       "      <td>33.315500</td>\n",
       "      <td>-1.9990</td>\n",
       "      <td>2.596</td>\n",
       "      <td>1.867570</td>\n",
       "    </tr>\n",
       "    <tr>\n",
       "      <th>2033.359</th>\n",
       "      <td>24</td>\n",
       "      <td>3.474303</td>\n",
       "      <td>-1.989914</td>\n",
       "      <td>33.731558</td>\n",
       "      <td>2.0000</td>\n",
       "      <td>2.536</td>\n",
       "      <td>1.677927</td>\n",
       "    </tr>\n",
       "  </tbody>\n",
       "</table>\n",
       "</div>"
      ],
      "text/plain": [
       "                Ambient_temperature  Voltage_measured  Current_measured  \\\n",
       "Discharge_time                                                            \n",
       "66.281                           24          3.932439         -2.009598   \n",
       "1106.000                         24          3.550628         -2.009560   \n",
       "2974.985                         24          3.562115         -0.002523   \n",
       "1574.516                         24          3.357780         -2.008311   \n",
       "498.125                          24          3.763987         -2.006470   \n",
       "75.828                           24          3.836312         -2.011151   \n",
       "2454.781                         24          3.439623         -2.010389   \n",
       "1031.453                         24          3.523641         -2.011124   \n",
       "2154.640                         24          3.490675         -2.009732   \n",
       "2033.359                         24          3.474303         -1.989914   \n",
       "\n",
       "                Temperature_measured  Current_load  Voltage_load  Capacity  \n",
       "Discharge_time                                                              \n",
       "66.281                     24.130555        1.9988         3.021  1.797102  \n",
       "1106.000                   30.312309        1.9990         2.645  1.603524  \n",
       "2974.985                   35.876573        0.0006         0.000  1.449042  \n",
       "1574.516                   34.542038        1.9990         2.446  1.420701  \n",
       "498.125                    27.554253        1.9986         2.859  1.648224  \n",
       "75.828                     25.537846        1.9988         2.918  1.378719  \n",
       "2454.781                   33.994183        1.9982         2.490  1.751730  \n",
       "1031.453                   30.426283        1.9988         2.618  1.509392  \n",
       "2154.640                   33.315500       -1.9990         2.596  1.867570  \n",
       "2033.359                   33.731558        2.0000         2.536  1.677927  "
      ]
     },
     "execution_count": 12,
     "metadata": {},
     "output_type": "execute_result"
    }
   ],
   "source": [
    "bat_discharge_train.head(10)"
   ]
  },
  {
   "cell_type": "code",
   "execution_count": 13,
   "metadata": {},
   "outputs": [
    {
     "data": {
      "text/html": [
       "<div>\n",
       "<style scoped>\n",
       "    .dataframe tbody tr th:only-of-type {\n",
       "        vertical-align: middle;\n",
       "    }\n",
       "\n",
       "    .dataframe tbody tr th {\n",
       "        vertical-align: top;\n",
       "    }\n",
       "\n",
       "    .dataframe thead th {\n",
       "        text-align: right;\n",
       "    }\n",
       "</style>\n",
       "<table border=\"1\" class=\"dataframe\">\n",
       "  <thead>\n",
       "    <tr style=\"text-align: right;\">\n",
       "      <th></th>\n",
       "      <th>Ambient_temperature</th>\n",
       "      <th>Voltage_measured</th>\n",
       "      <th>Current_measured</th>\n",
       "      <th>Temperature_measured</th>\n",
       "      <th>Current_load</th>\n",
       "      <th>Voltage_load</th>\n",
       "      <th>Capacity</th>\n",
       "    </tr>\n",
       "    <tr>\n",
       "      <th>Discharge_time</th>\n",
       "      <th></th>\n",
       "      <th></th>\n",
       "      <th></th>\n",
       "      <th></th>\n",
       "      <th></th>\n",
       "      <th></th>\n",
       "      <th></th>\n",
       "    </tr>\n",
       "  </thead>\n",
       "  <tbody>\n",
       "    <tr>\n",
       "      <th>3409.656</th>\n",
       "      <td>24</td>\n",
       "      <td>3.223324</td>\n",
       "      <td>-0.001598</td>\n",
       "      <td>36.768178</td>\n",
       "      <td>-0.0006</td>\n",
       "      <td>0.000</td>\n",
       "      <td>1.813440</td>\n",
       "    </tr>\n",
       "    <tr>\n",
       "      <th>2689.906</th>\n",
       "      <td>24</td>\n",
       "      <td>3.371231</td>\n",
       "      <td>-2.012041</td>\n",
       "      <td>34.230154</td>\n",
       "      <td>1.9990</td>\n",
       "      <td>2.469</td>\n",
       "      <td>1.771013</td>\n",
       "    </tr>\n",
       "    <tr>\n",
       "      <th>1584.328</th>\n",
       "      <td>24</td>\n",
       "      <td>3.561380</td>\n",
       "      <td>-1.989713</td>\n",
       "      <td>31.143738</td>\n",
       "      <td>2.0000</td>\n",
       "      <td>2.626</td>\n",
       "      <td>1.806264</td>\n",
       "    </tr>\n",
       "    <tr>\n",
       "      <th>927.953</th>\n",
       "      <td>24</td>\n",
       "      <td>3.519920</td>\n",
       "      <td>-2.013802</td>\n",
       "      <td>31.054653</td>\n",
       "      <td>1.9980</td>\n",
       "      <td>2.539</td>\n",
       "      <td>1.303410</td>\n",
       "    </tr>\n",
       "    <tr>\n",
       "      <th>338.047</th>\n",
       "      <td>24</td>\n",
       "      <td>3.750069</td>\n",
       "      <td>-2.010790</td>\n",
       "      <td>28.268624</td>\n",
       "      <td>1.9980</td>\n",
       "      <td>2.776</td>\n",
       "      <td>1.349315</td>\n",
       "    </tr>\n",
       "    <tr>\n",
       "      <th>113.328</th>\n",
       "      <td>24</td>\n",
       "      <td>3.905826</td>\n",
       "      <td>-1.989371</td>\n",
       "      <td>25.592611</td>\n",
       "      <td>2.0000</td>\n",
       "      <td>2.955</td>\n",
       "      <td>1.565281</td>\n",
       "    </tr>\n",
       "    <tr>\n",
       "      <th>1817.969</th>\n",
       "      <td>24</td>\n",
       "      <td>3.365431</td>\n",
       "      <td>-2.010967</td>\n",
       "      <td>33.926124</td>\n",
       "      <td>1.9990</td>\n",
       "      <td>2.459</td>\n",
       "      <td>1.503997</td>\n",
       "    </tr>\n",
       "    <tr>\n",
       "      <th>2165.562</th>\n",
       "      <td>24</td>\n",
       "      <td>3.401571</td>\n",
       "      <td>-0.000521</td>\n",
       "      <td>40.487310</td>\n",
       "      <td>0.0006</td>\n",
       "      <td>0.000</td>\n",
       "      <td>1.153818</td>\n",
       "    </tr>\n",
       "    <tr>\n",
       "      <th>328.641</th>\n",
       "      <td>24</td>\n",
       "      <td>3.794609</td>\n",
       "      <td>-2.007364</td>\n",
       "      <td>26.872865</td>\n",
       "      <td>1.9988</td>\n",
       "      <td>2.883</td>\n",
       "      <td>1.660759</td>\n",
       "    </tr>\n",
       "    <tr>\n",
       "      <th>2408.672</th>\n",
       "      <td>24</td>\n",
       "      <td>3.293688</td>\n",
       "      <td>-1.988607</td>\n",
       "      <td>37.104288</td>\n",
       "      <td>2.0000</td>\n",
       "      <td>2.359</td>\n",
       "      <td>1.503196</td>\n",
       "    </tr>\n",
       "  </tbody>\n",
       "</table>\n",
       "</div>"
      ],
      "text/plain": [
       "                Ambient_temperature  Voltage_measured  Current_measured  \\\n",
       "Discharge_time                                                            \n",
       "3409.656                         24          3.223324         -0.001598   \n",
       "2689.906                         24          3.371231         -2.012041   \n",
       "1584.328                         24          3.561380         -1.989713   \n",
       "927.953                          24          3.519920         -2.013802   \n",
       "338.047                          24          3.750069         -2.010790   \n",
       "113.328                          24          3.905826         -1.989371   \n",
       "1817.969                         24          3.365431         -2.010967   \n",
       "2165.562                         24          3.401571         -0.000521   \n",
       "328.641                          24          3.794609         -2.007364   \n",
       "2408.672                         24          3.293688         -1.988607   \n",
       "\n",
       "                Temperature_measured  Current_load  Voltage_load  Capacity  \n",
       "Discharge_time                                                              \n",
       "3409.656                   36.768178       -0.0006         0.000  1.813440  \n",
       "2689.906                   34.230154        1.9990         2.469  1.771013  \n",
       "1584.328                   31.143738        2.0000         2.626  1.806264  \n",
       "927.953                    31.054653        1.9980         2.539  1.303410  \n",
       "338.047                    28.268624        1.9980         2.776  1.349315  \n",
       "113.328                    25.592611        2.0000         2.955  1.565281  \n",
       "1817.969                   33.926124        1.9990         2.459  1.503997  \n",
       "2165.562                   40.487310        0.0006         0.000  1.153818  \n",
       "328.641                    26.872865        1.9988         2.883  1.660759  \n",
       "2408.672                   37.104288        2.0000         2.359  1.503196  "
      ]
     },
     "execution_count": 13,
     "metadata": {},
     "output_type": "execute_result"
    }
   ],
   "source": [
    "bat_discharge_test.head(10)"
   ]
  },
  {
   "cell_type": "code",
   "execution_count": 14,
   "metadata": {},
   "outputs": [
    {
     "data": {
      "text/plain": [
       "0.300003769094502"
      ]
     },
     "execution_count": 14,
     "metadata": {},
     "output_type": "execute_result"
    }
   ],
   "source": [
    "len(bat_discharge_test)/len(bat_discharge_sel)"
   ]
  },
  {
   "cell_type": "code",
   "execution_count": 15,
   "metadata": {},
   "outputs": [
    {
     "data": {
      "text/plain": [
       "0.699996230905498"
      ]
     },
     "execution_count": 15,
     "metadata": {},
     "output_type": "execute_result"
    }
   ],
   "source": [
    "len(bat_discharge_train)/len(bat_discharge_sel)"
   ]
  },
  {
   "cell_type": "code",
   "execution_count": 16,
   "metadata": {},
   "outputs": [
    {
     "data": {
      "text/plain": [
       "185721"
      ]
     },
     "execution_count": 16,
     "metadata": {},
     "output_type": "execute_result"
    }
   ],
   "source": [
    "len(bat_discharge_sel)"
   ]
  },
  {
   "cell_type": "code",
   "execution_count": 17,
   "metadata": {},
   "outputs": [],
   "source": [
    "from sklearn.gaussian_process import GaussianProcessRegressor\n",
    "from sklearn.gaussian_process.kernels import RBF\n",
    "from sklearn.metrics import mean_squared_error, r2_score"
   ]
  },
  {
   "cell_type": "markdown",
   "metadata": {},
   "source": [
    "# Choose Kernel function"
   ]
  },
  {
   "cell_type": "code",
   "execution_count": 18,
   "metadata": {},
   "outputs": [],
   "source": [
    "# Choose kernel function\n",
    "kernel = ConstantKernel(constant_value=1.0) * RBF(length_scale=1.0) # Product of constant and RBF kernels"
   ]
  },
  {
   "cell_type": "markdown",
   "metadata": {},
   "source": [
    "# Create and fit model"
   ]
  },
  {
   "cell_type": "code",
   "execution_count": 19,
   "metadata": {},
   "outputs": [],
   "source": [
    "from sklearn.preprocessing import MinMaxScaler\n",
    "scaler = MinMaxScaler()\n",
    "X_train_s=scaler.fit_transform(X_train)\n",
    "X_test_s=scaler.fit_transform(X_test)"
   ]
  },
  {
   "cell_type": "code",
   "execution_count": 21,
   "metadata": {},
   "outputs": [
    {
     "data": {
      "text/plain": [
       "array([[0.        , 0.58835544, 0.99313855, 0.72150407, 0.49985   ,\n",
       "        0.        ],\n",
       "       [0.        , 0.64928978, 0.007344  , 0.59447574, 0.99975   ,\n",
       "        0.58258613],\n",
       "       [0.        , 0.72762704, 0.01829197, 0.44000033, 1.        ,\n",
       "        0.6196319 ],\n",
       "       ...,\n",
       "       [0.        , 0.68372569, 0.01839705, 0.59424337, 1.        ,\n",
       "        0.5946201 ],\n",
       "       [0.        , 0.72043599, 0.00805048, 0.39833277, 0.99975   ,\n",
       "        0.62340727],\n",
       "       [0.        , 0.78349854, 0.00747313, 0.37494784, 0.99955   ,\n",
       "        0.64157622]])"
      ]
     },
     "execution_count": 21,
     "metadata": {},
     "output_type": "execute_result"
    }
   ],
   "source": [
    "X_test_s"
   ]
  },
  {
   "cell_type": "code",
   "execution_count": null,
   "metadata": {},
   "outputs": [],
   "source": [
    "# Create and fit model\n",
    "# Create GaussianProcessRegressor object with kernel and noise variance\n",
    "gpr_model = GaussianProcessRegressor(kernel=kernel, alpha=noise**2) \n",
    "gpr_model.fit(X_train, y_train) # Fit model to training data"
   ]
  },
  {
   "cell_type": "code",
   "execution_count": 33,
   "metadata": {},
   "outputs": [
    {
     "data": {
      "text/plain": [
       "404"
      ]
     },
     "execution_count": 33,
     "metadata": {},
     "output_type": "execute_result"
    }
   ],
   "source": [
    "len(X_train)"
   ]
  },
  {
   "cell_type": "code",
   "execution_count": 35,
   "metadata": {},
   "outputs": [
    {
     "data": {
      "text/plain": [
       "numpy.ndarray"
      ]
     },
     "execution_count": 35,
     "metadata": {},
     "output_type": "execute_result"
    }
   ],
   "source": [
    "type(X)"
   ]
  },
  {
   "cell_type": "code",
   "execution_count": null,
   "metadata": {},
   "outputs": [],
   "source": []
  }
 ],
 "metadata": {
  "kernelspec": {
   "display_name": "Python 3",
   "language": "python",
   "name": "python3"
  },
  "language_info": {
   "codemirror_mode": {
    "name": "ipython",
    "version": 3
   },
   "file_extension": ".py",
   "mimetype": "text/x-python",
   "name": "python",
   "nbconvert_exporter": "python",
   "pygments_lexer": "ipython3",
   "version": "3.8.10"
  }
 },
 "nbformat": 4,
 "nbformat_minor": 4
}
